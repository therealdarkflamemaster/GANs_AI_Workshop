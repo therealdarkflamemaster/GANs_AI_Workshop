{
  "cells": [
    {
      "cell_type": "markdown",
      "id": "834d99b9-2b1e-4e47-9ac4-f5f3cc7fa503",
      "metadata": {
        "id": "834d99b9-2b1e-4e47-9ac4-f5f3cc7fa503"
      },
      "source": [
        "## TODO Recording:\n",
        "\n",
        "- Go to Drive\n",
        "- Show the folder called anime_classification/\n",
        "- Click through to anime_classification/ and show the two subfolders (now we will have real_images and good_fake_images, remove the bad_fake_images/ folder)\n",
        "- Click through to the good_fake_images - open up 2-3 images from the im_55 series and show\n",
        "- Then sort descending by name and - open up 2-3 images from the im_70 series and show\n",
        "\n",
        "### Come to the notebook\n",
        "\n",
        "- Show the runtime is GPU"
      ]
    },
    {
      "cell_type": "code",
      "execution_count": 1,
      "id": "a6ba5409-3f39-45fd-817e-5ab9e6262e83",
      "metadata": {
        "id": "a6ba5409-3f39-45fd-817e-5ab9e6262e83"
      },
      "outputs": [],
      "source": [
        "import torch\n",
        "import torch.nn as nn\n",
        "import torch.optim as optim\n",
        "import torch.utils.data\n",
        "import torchvision.datasets as dset\n",
        "import torchvision.transforms as transforms\n",
        "\n",
        "from torchvision import transforms\n",
        "from torchvision.utils import  make_grid\n",
        "\n",
        "import numpy as np\n",
        "import matplotlib.pyplot as plt"
      ]
    },
    {
      "cell_type": "markdown",
      "id": "cbl6UPDHrHYc",
      "metadata": {
        "id": "cbl6UPDHrHYc"
      },
      "source": [
        "Mounting the Google Drive"
      ]
    },
    {
      "cell_type": "code",
      "execution_count": 2,
      "id": "f21d1f24-1a42-4c68-a8dc-8490815c7c1d",
      "metadata": {
        "colab": {
          "base_uri": "https://localhost:8080/"
        },
        "id": "f21d1f24-1a42-4c68-a8dc-8490815c7c1d",
        "outputId": "961ee808-813b-422f-b03b-620672f09a59"
      },
      "outputs": [
        {
          "output_type": "stream",
          "name": "stdout",
          "text": [
            "Mounted at /content/drive\n"
          ]
        }
      ],
      "source": [
        "from google.colab import drive\n",
        "\n",
        "drive.mount(\"/content/drive\")"
      ]
    },
    {
      "cell_type": "markdown",
      "id": "NshSyY0Ls9Dm",
      "metadata": {
        "id": "NshSyY0Ls9Dm"
      },
      "source": [
        "Device is defined for Training\n"
      ]
    },
    {
      "cell_type": "code",
      "execution_count": 3,
      "id": "lw0sd6-RtAnv",
      "metadata": {
        "id": "lw0sd6-RtAnv"
      },
      "outputs": [],
      "source": [
        "device = torch.device(\"cuda:0\" if (torch.cuda.is_available()) else \"cpu\")"
      ]
    },
    {
      "cell_type": "markdown",
      "id": "c1hciuZqrknd",
      "metadata": {
        "id": "c1hciuZqrknd"
      },
      "source": [
        "Creating a Dataset with two classes- Real images and Bad fake images.Note that all images are resized to 64,  CenterCropped , Converted to Tensor and Normalised. Batch size is taken as 16"
      ]
    },
    {
      "cell_type": "code",
      "execution_count": 4,
      "id": "083d8f00-8e00-4534-a512-f9d8153f1722",
      "metadata": {
        "id": "083d8f00-8e00-4534-a512-f9d8153f1722"
      },
      "outputs": [],
      "source": [
        "batch_size = 8\n",
        "image_size = 64\n",
        "\n",
        "# Create the dataset\n",
        "anime_faces_dataset = dset.ImageFolder(\n",
        "    root = '/content/drive/MyDrive/ai_workshop_dcgans/anime_classification/',\n",
        "    transform = transforms.Compose([\n",
        "        transforms.Resize(image_size),\n",
        "        transforms.CenterCrop(image_size),\n",
        "        transforms.ToTensor(),\n",
        "        transforms.Normalize((0.5, 0.5, 0.5), (0.5, 0.5, 0.5)),\n",
        "    ]))"
      ]
    },
    {
      "cell_type": "markdown",
      "source": [
        "Both the classes comprises of 1024 images each"
      ],
      "metadata": {
        "id": "FFMLYVUi7uVd"
      },
      "id": "FFMLYVUi7uVd"
    },
    {
      "cell_type": "code",
      "source": [
        "len(anime_faces_dataset)"
      ],
      "metadata": {
        "colab": {
          "base_uri": "https://localhost:8080/"
        },
        "id": "-ApPZM4mWuEG",
        "outputId": "c337cf1b-d96c-49ba-c53c-476697f81255"
      },
      "id": "-ApPZM4mWuEG",
      "execution_count": 5,
      "outputs": [
        {
          "output_type": "execute_result",
          "data": {
            "text/plain": [
              "1185"
            ]
          },
          "metadata": {},
          "execution_count": 5
        }
      ]
    },
    {
      "cell_type": "markdown",
      "source": [
        "Classes can be verified"
      ],
      "metadata": {
        "id": "wVuwhtZ670N4"
      },
      "id": "wVuwhtZ670N4"
    },
    {
      "cell_type": "code",
      "source": [
        "classes = anime_faces_dataset.classes\n",
        "\n",
        "classes"
      ],
      "metadata": {
        "colab": {
          "base_uri": "https://localhost:8080/"
        },
        "id": "AHDi6fKQrZUo",
        "outputId": "5a61ef51-438e-441e-f5a9-d4231707ecc6"
      },
      "id": "AHDi6fKQrZUo",
      "execution_count": 6,
      "outputs": [
        {
          "output_type": "execute_result",
          "data": {
            "text/plain": [
              "['bad_fake_images', 'good_fake_images', 'images']"
            ]
          },
          "metadata": {},
          "execution_count": 6
        }
      ]
    },
    {
      "cell_type": "markdown",
      "source": [
        "Splitting the dataset into train and test in approx. 80-20 ratio"
      ],
      "metadata": {
        "id": "5WGgx6AK79fx"
      },
      "id": "5WGgx6AK79fx"
    },
    {
      "cell_type": "code",
      "source": [
        "train_set, test_set = torch.utils.data.random_split(anime_faces_dataset, [948, 237])"
      ],
      "metadata": {
        "id": "hX4ijuoJ2WGi"
      },
      "id": "hX4ijuoJ2WGi",
      "execution_count": 8,
      "outputs": []
    },
    {
      "cell_type": "markdown",
      "source": [
        "Creating training and testing dataloaders. Note that whole test set is the batch size for test loader"
      ],
      "metadata": {
        "id": "s5ZrpqJS8ICE"
      },
      "id": "s5ZrpqJS8ICE"
    },
    {
      "cell_type": "code",
      "source": [
        "trainloader = torch.utils.data.DataLoader(\n",
        "    train_set, batch_size = batch_size,\n",
        "    shuffle = True, num_workers = 2\n",
        ")\n",
        "\n",
        "\n",
        "testloader = torch.utils.data.DataLoader(\n",
        "    test_set, batch_size = batch_size,\n",
        "    shuffle = False, num_workers = 2\n",
        ")"
      ],
      "metadata": {
        "id": "hbZ_0g6A2zLI"
      },
      "id": "hbZ_0g6A2zLI",
      "execution_count": 9,
      "outputs": []
    },
    {
      "cell_type": "markdown",
      "source": [
        "Checking the shape of one batch of training data"
      ],
      "metadata": {
        "id": "I0yhB3tP9MH5"
      },
      "id": "I0yhB3tP9MH5"
    },
    {
      "cell_type": "code",
      "source": [
        "dataiter = iter(trainloader)\n",
        "\n",
        "images, labels = next(dataiter)\n",
        "images.shape"
      ],
      "metadata": {
        "colab": {
          "base_uri": "https://localhost:8080/"
        },
        "id": "CkYAb044q1PD",
        "outputId": "4e4a4dd2-d5c4-40e3-df7b-d4000c6af1af"
      },
      "id": "CkYAb044q1PD",
      "execution_count": 10,
      "outputs": [
        {
          "output_type": "execute_result",
          "data": {
            "text/plain": [
              "torch.Size([8, 3, 64, 64])"
            ]
          },
          "metadata": {},
          "execution_count": 10
        }
      ]
    },
    {
      "cell_type": "markdown",
      "source": [
        "Visualising the images for both Good fakes and Real images. Good fakes are not very easy to identify."
      ],
      "metadata": {
        "id": "prZplrbR9WGq"
      },
      "id": "prZplrbR9WGq"
    },
    {
      "cell_type": "code",
      "source": [
        "def display(img):\n",
        "    img = img / 2 + 0.5\n",
        "    img = img.permute(1, 2, 0)\n",
        "    npimg = img.numpy()\n",
        "\n",
        "    plt.imshow(npimg)\n",
        "    plt.xticks([])\n",
        "    plt.yticks([])\n",
        "    plt.show()\n",
        "\n",
        "print(' '.join(f'{classes[labels[j]]:5s}' for j in range(8)))\n",
        "\n",
        "display(make_grid(images, 8))\n",
        "\n",
        "# print(' '.join(f'{classes[labels[j]]:5s}' for j in range(8, 16)))"
      ],
      "metadata": {
        "colab": {
          "base_uri": "https://localhost:8080/",
          "height": 138
        },
        "id": "DVTtIW0WquYj",
        "outputId": "1359b1a8-3a8d-49d6-c4ea-5ee6b09d6800"
      },
      "id": "DVTtIW0WquYj",
      "execution_count": 12,
      "outputs": [
        {
          "output_type": "stream",
          "name": "stdout",
          "text": [
            "good_fake_images images images good_fake_images good_fake_images good_fake_images good_fake_images bad_fake_images\n"
          ]
        },
        {
          "output_type": "display_data",
          "data": {
            "text/plain": [
              "<Figure size 640x480 with 1 Axes>"
            ],
            "image/png": "[encoded data removed]"
          },
          "metadata": {}
        }
      ]
    },
    {
      "cell_type": "code",
      "source": [
        "# Number of channels in the training images. For color images this is 3\n",
        "nc = 3\n",
        "\n",
        "# Size of feature maps in discriminator\n",
        "ndf = 64\n",
        "\n",
        "# Learning rate for optimizers\n",
        "lr = 0.0002"
      ],
      "metadata": {
        "id": "rgmLIhO70TRX"
      },
      "id": "rgmLIhO70TRX",
      "execution_count": null,
      "outputs": []
    },
    {
      "cell_type": "markdown",
      "id": "w2XFF53L9JCo",
      "metadata": {
        "id": "w2XFF53L9JCo"
      },
      "source": [
        "Plotting some training images"
      ]
    },
    {
      "cell_type": "markdown",
      "id": "ny2dViiHtVPm",
      "metadata": {
        "id": "ny2dViiHtVPm"
      },
      "source": [
        "From the DCGAN paper, the authors specify that all model weights shall be randomly initialized from a Normal distribution with mean=0, stdev=0.02. The weights_init function takes an initialized model as input and reinitializes all convolutional, convolutional-transpose, and batch normalization layers to meet this criteria. This function is applied to the models immediately after initialization."
      ]
    },
    {
      "cell_type": "code",
      "execution_count": null,
      "id": "d10a8aa0-03a0-4d5e-a3eb-3d4cd4cc94cb",
      "metadata": {
        "id": "d10a8aa0-03a0-4d5e-a3eb-3d4cd4cc94cb"
      },
      "outputs": [],
      "source": [
        "def weights_init(m):\n",
        "\n",
        "    classname = m.__class__.__name__\n",
        "\n",
        "    if classname.find('Conv') != -1:\n",
        "        nn.init.normal_(m.weight.data, 0.0, 0.02)\n",
        "\n",
        "    elif classname.find('BatchNorm') != -1:\n",
        "        nn.init.normal_(m.weight.data, 1.0, 0.02)\n",
        "        nn.init.constant_(m.bias.data, 0)"
      ]
    },
    {
      "cell_type": "markdown",
      "source": [
        "Discriminator is defined which will be used for Image classification"
      ],
      "metadata": {
        "id": "ReHsa2p2-6q8"
      },
      "id": "ReHsa2p2-6q8"
    },
    {
      "cell_type": "code",
      "execution_count": null,
      "id": "e4540b29-1b0a-48c6-8485-86226241c7ac",
      "metadata": {
        "id": "e4540b29-1b0a-48c6-8485-86226241c7ac"
      },
      "outputs": [],
      "source": [
        "class Discriminator(nn.Module):\n",
        "    def __init__(self):\n",
        "        super(Discriminator, self).__init__()\n",
        "\n",
        "        self.net = nn.Sequential(\n",
        "            # input is ``(nc) x 64 x 64``\n",
        "            nn.Conv2d(\n",
        "                in_channels = nc,\n",
        "                out_channels = ndf,\n",
        "                kernel_size = 4,\n",
        "                stride = 2,\n",
        "                padding = 1,\n",
        "                bias = False\n",
        "            ),\n",
        "            nn.LeakyReLU(0.2, inplace = True),\n",
        "\n",
        "            # state size. ``(ndf) x 32 x 32``\n",
        "            nn.Conv2d(\n",
        "                in_channels = ndf,\n",
        "                out_channels = ndf * 2,\n",
        "                kernel_size = 4,\n",
        "                stride = 2,\n",
        "                padding = 1,\n",
        "                bias = False\n",
        "            ),\n",
        "            nn.BatchNorm2d(ndf * 2),\n",
        "            nn.LeakyReLU(0.2, inplace = True),\n",
        "\n",
        "            # state size. ``(ndf*2) x 16 x 16``\n",
        "            nn.Conv2d(\n",
        "                in_channels = ndf * 2,\n",
        "                out_channels = ndf * 4,\n",
        "                kernel_size = 4,\n",
        "                stride = 2,\n",
        "                padding = 1,\n",
        "                bias = False\n",
        "            ),\n",
        "            nn.BatchNorm2d(ndf * 4),\n",
        "            nn.LeakyReLU(0.2, inplace = True),\n",
        "\n",
        "            # state size. ``(ndf*4) x 8 x 8``\n",
        "            nn.Conv2d(\n",
        "                in_channels = ndf * 4,\n",
        "                out_channels = ndf * 8,\n",
        "                kernel_size = 4,\n",
        "                stride = 2,\n",
        "                padding = 1,\n",
        "                bias = False\n",
        "            ),\n",
        "            nn.BatchNorm2d(ndf * 8),\n",
        "            nn.LeakyReLU(0.2, inplace = True),\n",
        "\n",
        "            # state size. ``(ndf*8) x 4 x 4``\n",
        "            nn.Conv2d(\n",
        "                in_channels = ndf * 8,\n",
        "                out_channels = 1,\n",
        "                kernel_size = 4,\n",
        "                stride = 1,\n",
        "                padding = 0,\n",
        "                bias = False\n",
        "            ),\n",
        "            nn.Sigmoid()\n",
        "        )\n",
        "\n",
        "    def forward(self, x):\n",
        "        return self.net(x)"
      ]
    },
    {
      "cell_type": "markdown",
      "id": "0a52926e-79e9-4afe-88b9-830cb52a9592",
      "metadata": {
        "id": "0a52926e-79e9-4afe-88b9-830cb52a9592"
      },
      "source": [
        "Discriminator is instantiated. Applying the 'weights_init' function to randomly initialize all weights like this: `to mean=0, stdev=0.2`. Discriminator Model architecture is printed"
      ]
    },
    {
      "cell_type": "code",
      "execution_count": null,
      "id": "4765ed7f-6d25-4392-b8ad-863e70deca3e",
      "metadata": {
        "id": "4765ed7f-6d25-4392-b8ad-863e70deca3e"
      },
      "outputs": [],
      "source": [
        "netD = Discriminator().to(device)\n",
        "\n",
        "netD.apply(weights_init)\n",
        "\n",
        "print(netD)"
      ]
    },
    {
      "cell_type": "markdown",
      "source": [
        "Initializing the ``BCELoss`` function and optimizer"
      ],
      "metadata": {
        "id": "PpgFYsNb-xCv"
      },
      "id": "PpgFYsNb-xCv"
    },
    {
      "cell_type": "code",
      "execution_count": null,
      "id": "d880c513-9613-40c9-9898-9610ab9edd86",
      "metadata": {
        "id": "d880c513-9613-40c9-9898-9610ab9edd86"
      },
      "outputs": [],
      "source": [
        "criterion = nn.BCELoss()\n",
        "\n",
        "optimizer = optim.Adam(netD.parameters(), lr = lr, betas = (0.5, 0.999))"
      ]
    },
    {
      "cell_type": "markdown",
      "source": [
        "Train the network\n",
        " We simply  looping over our data iterator, and feed the inputs to the network and optimize."
      ],
      "metadata": {
        "id": "iGpha7t5_Gya"
      },
      "id": "iGpha7t5_Gya"
    },
    {
      "cell_type": "code",
      "source": [
        "for epoch in range(2):\n",
        "\n",
        "    running_loss = 0.0\n",
        "\n",
        "    for i, data in enumerate(trainloader, 0):\n",
        "        # get the inputs; data is a list of [inputs, labels]\n",
        "        inputs, labels = data\n",
        "        inputs = inputs.to(device)\n",
        "        labels = labels.to(device)\n",
        "\n",
        "        # zero the parameter gradients\n",
        "        optimizer.zero_grad()\n",
        "\n",
        "        # forward + backward + optimize\n",
        "        outputs = netD(inputs)\n",
        "\n",
        "        loss = criterion(outputs.flatten(), labels.float())\n",
        "        loss.backward()\n",
        "\n",
        "        optimizer.step()\n",
        "\n",
        "        # print statistics\n",
        "        running_loss += loss.item()\n",
        "\n",
        "        if i % 20==0:    # print every 20 mini-batches\n",
        "            print(f'[Epoch: {epoch + 1}, Step: {i + 1:5d}] loss: {running_loss/20:.3f}')\n",
        "            running_loss = 0.0\n",
        "\n",
        "print('Finished Training')"
      ],
      "metadata": {
        "id": "Bxi-Tdcy4M0v"
      },
      "id": "Bxi-Tdcy4M0v",
      "execution_count": null,
      "outputs": []
    },
    {
      "cell_type": "markdown",
      "source": [
        "Testing the network on the test data\n",
        "We have trained the network for 2 passes over the training dataset. But we need to check if the network has learnt anything at all.\n",
        "\n",
        "We will check this by predicting the class label that the neural network outputs, and checking it against the ground-truth. If the prediction is correct, we add the sample to the list of correct predictions.\n",
        "\n",
        "Displaying a batch of image from the test set to get familiar."
      ],
      "metadata": {
        "id": "7WxiuRIE_nUT"
      },
      "id": "7WxiuRIE_nUT"
    },
    {
      "cell_type": "code",
      "source": [
        "dataiter = iter(testloader)\n",
        "\n",
        "images, labels = next(dataiter)\n",
        "\n",
        "print('GroundTruth: ')\n",
        "\n",
        "print(' '.join(f'{classes[labels[j]]:5s}' for j in range(8)))\n",
        "display(make_grid(images, 8))\n",
        "print(' '.join(f'{classes[labels[j]]:5s}' for j in range(8, 16)))"
      ],
      "metadata": {
        "id": "l5TVx2DI8Kcj"
      },
      "id": "l5TVx2DI8Kcj",
      "execution_count": null,
      "outputs": []
    },
    {
      "cell_type": "code",
      "source": [
        "outputs = netD(images.to(device))"
      ],
      "metadata": {
        "id": "q5oMKn_DKepQ"
      },
      "id": "q5oMKn_DKepQ",
      "execution_count": null,
      "outputs": []
    },
    {
      "cell_type": "code",
      "source": [
        "predicted = torch.round(outputs.flatten())\n",
        "\n",
        "print('Predicted: ')\n",
        "\n",
        "print(' '.join(f'{classes[predicted.long()[j]]:5s}' for j in range(8)))\n",
        "display(make_grid(images, 8))\n",
        "print(' '.join(f'{classes[predicted.long()[j]]:5s}' for j in range(8, 16)))"
      ],
      "metadata": {
        "id": "jSUUyPts9GOz"
      },
      "id": "jSUUyPts9GOz",
      "execution_count": null,
      "outputs": []
    },
    {
      "cell_type": "markdown",
      "source": [
        "Checking performance on whole test set.Discriminator after training can easily identify Bad fake images and real images."
      ],
      "metadata": {
        "id": "acckQ8gRAKV4"
      },
      "id": "acckQ8gRAKV4"
    },
    {
      "cell_type": "code",
      "source": [
        "correct = 0\n",
        "total = 0\n",
        "\n",
        "with torch.no_grad():\n",
        "    for data in testloader:\n",
        "\n",
        "        images, labels = data\n",
        "\n",
        "        images = images.to(device)\n",
        "        labels = labels.to(device)\n",
        "\n",
        "        outputs = netD(images)\n",
        "\n",
        "        predicted = torch.round(outputs.flatten()).long()\n",
        "        total += labels.size(0)\n",
        "        correct += (predicted == labels).sum().item()\n",
        "\n",
        "print(f'Accuracy of the network on the test images: {100 * correct // total} %')"
      ],
      "metadata": {
        "id": "VSyh9R1p-9qk"
      },
      "id": "VSyh9R1p-9qk",
      "execution_count": null,
      "outputs": []
    },
    {
      "cell_type": "markdown",
      "source": [
        "Class wise performances is checked"
      ],
      "metadata": {
        "id": "hgLN6DimAWol"
      },
      "id": "hgLN6DimAWol"
    },
    {
      "cell_type": "code",
      "source": [
        "# prepare to count predictions for each class\n",
        "correct_pred = {classname: 0 for classname in classes}\n",
        "total_pred = {classname: 0 for classname in classes}\n",
        "\n",
        "all_labels = []\n",
        "all_predictions = []\n",
        "\n",
        "# again no gradients needed\n",
        "with torch.no_grad():\n",
        "    for data in testloader:\n",
        "        images, labels = data\n",
        "\n",
        "        images = images.to(device)\n",
        "        labels = labels.to(device)\n",
        "\n",
        "        all_labels.append(labels.cpu().numpy())\n",
        "\n",
        "        outputs = netD(images)\n",
        "        predictions = torch.round(outputs.flatten()).long()\n",
        "\n",
        "        all_predictions.append(predictions.cpu().numpy())\n",
        "\n",
        "        # collect the correct predictions for each class\n",
        "        for label, prediction in zip(labels, predictions):\n",
        "            if label == prediction:\n",
        "                correct_pred[classes[label]] += 1\n",
        "            total_pred[classes[label]] += 1\n",
        "\n",
        "# print accuracy for each class\n",
        "for classname, correct_count in correct_pred.items():\n",
        "    accuracy = 100 * float(correct_count) / total_pred[classname]\n",
        "    print(f'Accuracy for class: {classname:5s} is {accuracy:.1f} %')"
      ],
      "metadata": {
        "id": "DkOmKBBrL8HI"
      },
      "id": "DkOmKBBrL8HI",
      "execution_count": null,
      "outputs": []
    },
    {
      "cell_type": "markdown",
      "source": [
        "Plotting misclassified images by trained Discriminator. Note that whole test set predictions are in 'predictions' list and labels in 'labels' list"
      ],
      "metadata": {
        "id": "w3EflAYHHaSj"
      },
      "id": "w3EflAYHHaSj"
    },
    {
      "cell_type": "code",
      "source": [
        "def show(image, title):\n",
        "\n",
        "    plt.figure()\n",
        "\n",
        "    plt.imshow(np.clip(image.permute(1, 2, 0).cpu().numpy(), 0 ,1))\n",
        "\n",
        "    plt.axis('off')\n",
        "    plt.title('\\n\\n{}'.format(title), fontdict = {'size': 16})"
      ],
      "metadata": {
        "id": "OM50wdr3DTUU"
      },
      "id": "OM50wdr3DTUU",
      "execution_count": null,
      "outputs": []
    },
    {
      "cell_type": "markdown",
      "source": [
        "## TODO Recording\n",
        "\n",
        "- for the cell below make sure you scroll and show fake images that were categorized as real\n",
        "- and real images that are categorized as fake"
      ],
      "metadata": {
        "id": "5oLiA2y9gYzK"
      },
      "id": "5oLiA2y9gYzK"
    },
    {
      "cell_type": "code",
      "source": [
        "for i, (images, labels) in enumerate(testloader):\n",
        "    for j in range(len(all_predictions[i])):\n",
        "      predicted_class = all_predictions[i][j]\n",
        "      actual_class = all_labels[i][j]\n",
        "\n",
        "      if predicted_class != actual_class:\n",
        "        show(images[j], 'Model prediction {} (class {}), actual category {} (class {})'.format(\n",
        "            classes[predicted_class], predicted_class,\n",
        "            classes[actual_class], actual_class\n",
        "        ))"
      ],
      "metadata": {
        "id": "lpkw4Ot_Cn8c"
      },
      "id": "lpkw4Ot_Cn8c",
      "execution_count": null,
      "outputs": []
    },
    {
      "cell_type": "code",
      "source": [],
      "metadata": {
        "id": "q8xUzdX5iBT6"
      },
      "id": "q8xUzdX5iBT6",
      "execution_count": null,
      "outputs": []
    },
    {
      "cell_type": "code",
      "execution_count": null,
      "id": "39085ed9-93e1-43f3-8507-e062e4688081",
      "metadata": {
        "id": "39085ed9-93e1-43f3-8507-e062e4688081"
      },
      "outputs": [],
      "source": []
    },
    {
      "cell_type": "code",
      "execution_count": null,
      "id": "57a2173d-7dec-491e-9f13-3bb051d99017",
      "metadata": {
        "id": "57a2173d-7dec-491e-9f13-3bb051d99017"
      },
      "outputs": [],
      "source": []
    },
    {
      "cell_type": "code",
      "execution_count": null,
      "id": "c96c48e0-e001-4c37-9fd2-b7415daf0c3b",
      "metadata": {
        "id": "c96c48e0-e001-4c37-9fd2-b7415daf0c3b"
      },
      "outputs": [],
      "source": []
    },
    {
      "cell_type": "code",
      "execution_count": null,
      "id": "a839a956-1ad2-434c-bf84-33fbc0a9ad05",
      "metadata": {
        "id": "a839a956-1ad2-434c-bf84-33fbc0a9ad05"
      },
      "outputs": [],
      "source": []
    },
    {
      "cell_type": "code",
      "execution_count": null,
      "id": "93553fd1-d7d7-4744-8384-9069a7da2c46",
      "metadata": {
        "id": "93553fd1-d7d7-4744-8384-9069a7da2c46"
      },
      "outputs": [],
      "source": []
    }
  ],
  "metadata": {
    "colab": {
      "provenance": [],
      "gpuType": "T4"
    },
    "kernelspec": {
      "display_name": "Python 3",
      "name": "python3"
    },
    "language_info": {
      "codemirror_mode": {
        "name": "ipython",
        "version": 3
      },
      "file_extension": ".py",
      "mimetype": "text/x-python",
      "name": "python",
      "nbconvert_exporter": "python",
      "pygments_lexer": "ipython3",
      "version": "3.10.9"
    },
    "accelerator": "GPU"
  },
  "nbformat": 4,
  "nbformat_minor": 5
}